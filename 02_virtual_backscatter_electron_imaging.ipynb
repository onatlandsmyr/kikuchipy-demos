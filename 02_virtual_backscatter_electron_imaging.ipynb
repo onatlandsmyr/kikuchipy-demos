{
 "cells": [
  {
   "cell_type": "markdown",
   "metadata": {},
   "source": [
    "# Introduction\n",
    "\n",
    "This tutorial demonstrates angle resolved virtual backscatter electron\n",
    "(BSE) imaging.\n",
    "\n",
    "For learning purposes, we recommend to use this notebook alongside our\n",
    "[user guide](https://kikuchipy.org).\n",
    "\n",
    "The data consists of 29 800 EBSD patterns from recrystallized\n",
    "polycrystalline Nickel. It is available\n",
    "[via Zenodo](https://zenodo.org/record/3265037).\n",
    "\n",
    "This functionality has been checked to run in kikuchipy-0.2.0 (May 2020). Bugs\n",
    "are always possible, do not trust the code blindly, and if you experience any\n",
    "issues, report them\n",
    "[in our issue tracker](https://github.com/kikuchipy/kikuchipy-demos/issues).\n",
    "\n",
    "Access all methods' documentation (docstrings) when the cursor is within the\n",
    "function parantheses, like `function(CURSOR HERE)`, by holding `SHIFT` and\n",
    "pressing `TAB`.\n",
    "\n",
    "# Contents\n",
    "\n",
    "1. Loading and data inspection\n",
    "2. Background correction\n",
    "3. Interactive plotting  \n",
    "    i. Imaging  \n",
    "    ii. Select a data region\n",
    "4. Multiple images from detector grid tiles\n",
    "5. RGB images  \n",
    "    i. From detector grid tiles  \n",
    "    ii. From Gaussian fitting parameters\n",
    "6. Processing virtual image intensities\n",
    "    (normalization/rescaling/contrast stretching)\n",
    "\n",
    "Import kikuchipy and other necessary libraries"
   ]
  },
  {
   "cell_type": "code",
   "execution_count": 1,
   "metadata": {},
   "outputs": [],
   "source": [
    "%matplotlib qt5\n",
    "import hyperspy.api as hs\n",
    "import matplotlib.pyplot as plt\n",
    "import numpy as np\n",
    "import kikuchipy as kp"
   ]
  },
  {
   "cell_type": "markdown",
   "metadata": {},
   "source": [
    "# 1. Loading and data inspection"
   ]
  },
  {
   "cell_type": "code",
   "execution_count": 5,
   "metadata": {},
   "outputs": [],
   "source": [
    "data = \"/home/hakon/phd/data/ni/2020/1/nordif/Pattern.dat\"\n",
    "s = kp.load(data, lazy=False)  # lazy=True to not load into memory before calling s.compute()"
   ]
  },
  {
   "cell_type": "markdown",
   "metadata": {},
   "source": [
    "Inspect the metadata"
   ]
  },
  {
   "cell_type": "code",
   "execution_count": null,
   "metadata": {},
   "outputs": [],
   "source": [
    "s.metadata"
   ]
  },
  {
   "cell_type": "markdown",
   "metadata": {},
   "source": [
    "Inspect the signal (detector) and navigation (sample) axes"
   ]
  },
  {
   "cell_type": "code",
   "execution_count": 8,
   "metadata": {},
   "outputs": [
    {
     "data": {
      "text/html": [
       "<style>\n",
       "table, th, td {\n",
       "\tborder: 1px solid black;\n",
       "\tborder-collapse: collapse;\n",
       "}\n",
       "th, td {\n",
       "\tpadding: 5px;\n",
       "}\n",
       "</style>\n",
       "<p><b>< Axes manager, axes: (200, 149|60, 60) ></b></p>\n",
       "<table style='width:100%'>\n",
       "\n",
       "<tr> \n",
       "<th>Navigation axis name</th> \n",
       "<th>size</th> \n",
       "<th>index</th> \n",
       "<th>offset</th> \n",
       "<th>scale</th> \n",
       "<th>units</th> </tr>\n",
       "<tr> \n",
       "<td>x</td> \n",
       "<td>200</td> \n",
       "<td>0</td> \n",
       "<td>0.0</td> \n",
       "<td>1.5</td> \n",
       "<td>um</td> </tr>\n",
       "<tr> \n",
       "<td>y</td> \n",
       "<td>149</td> \n",
       "<td>0</td> \n",
       "<td>0.0</td> \n",
       "<td>1.5</td> \n",
       "<td>um</td> </tr></table>\n",
       "<table style='width:100%'>\n",
       "\n",
       "<tr> \n",
       "<th>Signal axis name</th> \n",
       "<th>size</th> \n",
       "<th>offset</th> \n",
       "<th>scale</th> \n",
       "<th>units</th> </tr>\n",
       "<tr> \n",
       "<td>dx</td> \n",
       "<td>60</td> \n",
       "<td>0.0</td> \n",
       "<td>1.0</td> \n",
       "<td>um</td> </tr>\n",
       "<tr> \n",
       "<td>dy</td> \n",
       "<td>60</td> \n",
       "<td>0.0</td> \n",
       "<td>1.0</td> \n",
       "<td>um</td> </tr></table>\n"
      ],
      "text/plain": [
       "<Axes manager, axes: (200, 149|60, 60)>\n",
       "            Name |   size |  index |  offset |   scale |  units \n",
       "================ | ====== | ====== | ======= | ======= | ====== \n",
       "               x |    200 |      0 |       0 |     1.5 |     um \n",
       "               y |    149 |      0 |       0 |     1.5 |     um \n",
       "---------------- | ------ | ------ | ------- | ------- | ------ \n",
       "              dx |     60 |        |       0 |       1 |     um \n",
       "              dy |     60 |        |       0 |       1 |     um "
      ]
     },
     "execution_count": 8,
     "metadata": {},
     "output_type": "execute_result"
    }
   ],
   "source": [
    "s.axes_manager"
   ]
  },
  {
   "cell_type": "markdown",
   "metadata": {},
   "source": [
    "Plot the patterns"
   ]
  },
  {
   "cell_type": "code",
   "execution_count": null,
   "metadata": {},
   "outputs": [],
   "source": [
    "s.plot()"
   ]
  },
  {
   "cell_type": "markdown",
   "metadata": {},
   "source": [
    "# 2. Background correction"
   ]
  },
  {
   "cell_type": "markdown",
   "metadata": {},
   "source": [
    "Remove the static background, but keeping retain the relative intensities. This\n",
    "correction retains the variation in the the backscatter electron yield from\n",
    "sample point to sample point"
   ]
  },
  {
   "cell_type": "code",
   "execution_count": 37,
   "metadata": {},
   "outputs": [
    {
     "name": "stdout",
     "output_type": "stream",
     "text": [
      "Removing the static background:\n",
      "[########################################] | 100% Completed |  2.5s\n"
     ]
    }
   ],
   "source": [
    "s.remove_static_background(relative=True)"
   ]
  },
  {
   "cell_type": "markdown",
   "metadata": {},
   "source": [
    "# 3. Interactive plotting"
   ]
  },
  {
   "cell_type": "markdown",
   "metadata": {},
   "source": [
    "## 3.1 Imaging"
   ]
  },
  {
   "cell_type": "markdown",
   "metadata": {},
   "source": [
    "Plot an interactive virtual image by integrating the intensities within a rectangular subset of pixels on the detector"
   ]
  },
  {
   "cell_type": "code",
   "execution_count": 38,
   "metadata": {},
   "outputs": [],
   "source": [
    "roi = hs.roi.RectangularROI(left=0, top=0, right=10, bottom=10)"
   ]
  },
  {
   "cell_type": "code",
   "execution_count": 39,
   "metadata": {},
   "outputs": [],
   "source": [
    "s.plot_virtual_bse_intensity(roi)"
   ]
  },
  {
   "cell_type": "markdown",
   "metadata": {},
   "source": [
    "Get the virtual BSE image associated with the last integration window used interactively"
   ]
  },
  {
   "cell_type": "code",
   "execution_count": 9,
   "metadata": {},
   "outputs": [],
   "source": [
    "vbse = s.get_virtual_bse_intensity(roi)"
   ]
  },
  {
   "cell_type": "code",
   "execution_count": 10,
   "metadata": {},
   "outputs": [
    {
     "data": {
      "text/plain": [
       "<VirtualBSEImage, title: Virtual backscatter electron image, dimensions: (|200, 149)>"
      ]
     },
     "execution_count": 10,
     "metadata": {},
     "output_type": "execute_result"
    }
   ],
   "source": [
    "vbse"
   ]
  },
  {
   "cell_type": "markdown",
   "metadata": {},
   "source": [
    "Plot the virtual BSE image"
   ]
  },
  {
   "cell_type": "code",
   "execution_count": 11,
   "metadata": {},
   "outputs": [],
   "source": [
    "vbse.plot()"
   ]
  },
  {
   "cell_type": "markdown",
   "metadata": {},
   "source": [
    "Inspect the metadata"
   ]
  },
  {
   "cell_type": "code",
   "execution_count": 12,
   "metadata": {},
   "outputs": [
    {
     "data": {
      "text/plain": [
       "├── Acquisition_instrument\n",
       "│   └── SEM\n",
       "│       ├── Detector\n",
       "│       │   └── EBSD\n",
       "│       │       ├── azimuth_angle = 0.0\n",
       "│       │       ├── binning = -1.0\n",
       "│       │       ├── detector = NORDIF UF1100\n",
       "│       │       ├── elevation_angle = 0.0\n",
       "│       │       ├── exposure_time = 0.0035\n",
       "│       │       ├── frame_number = -1\n",
       "│       │       ├── frame_rate = 202\n",
       "│       │       ├── gain = 0.0\n",
       "│       │       ├── grid_type = square\n",
       "│       │       ├── manufacturer = NORDIF\n",
       "│       │       ├── sample_tilt = 70.0\n",
       "│       │       ├── scan_time = 148\n",
       "│       │       ├── static_background = array([[84, 87, 90, ..., 27, 29, 30],\n",
       "       [87, 90, 93, ..., 27, 28, 30],\n",
       "   ...  80, 82, ..., 28, 26, 26],\n",
       "       [76, 78, 80, ..., 26, 26, 25]], dtype=uint8)\n",
       "│       │       ├── version = 3.1.2\n",
       "│       │       ├── xpc = -1.0\n",
       "│       │       ├── ypc = -1.0\n",
       "│       │       └── zpc = -1.0\n",
       "│       ├── beam_energy = 20.0\n",
       "│       ├── magnification = 200\n",
       "│       ├── microscope = Hitachi SU-6600\n",
       "│       └── working_distance = 24.7\n",
       "├── General\n",
       "│   ├── original_filename = /home/hakon/phd/data/ni/2020/1/nordif/Pattern.dat\n",
       "│   └── title = Virtual backscatter electron image\n",
       "├── Sample\n",
       "│   └── Phases\n",
       "│       └── 1\n",
       "│           ├── atom_coordinates\n",
       "│           │   └── 1\n",
       "│           │       ├── atom = \n",
       "│           │       ├── coordinates = array([0., 0., 0.])\n",
       "│           │       ├── debye_waller_factor = 0.0\n",
       "│           │       └── site_occupation = 0.0\n",
       "│           ├── formula = \n",
       "│           ├── info = \n",
       "│           ├── lattice_constants = array([0., 0., 0., 0., 0., 0.])\n",
       "│           ├── laue_group = \n",
       "│           ├── material_name = Ni\n",
       "│           ├── point_group = \n",
       "│           ├── setting = 0\n",
       "│           ├── source = \n",
       "│           ├── space_group = 0\n",
       "│           └── symmetry = 0\n",
       "└── Signal\n",
       "    ├── binned = False\n",
       "    └── signal_type = VirtualBSEImage"
      ]
     },
     "execution_count": 12,
     "metadata": {},
     "output_type": "execute_result"
    }
   ],
   "source": [
    "vbse.metadata"
   ]
  },
  {
   "cell_type": "markdown",
   "metadata": {},
   "source": [
    "Save the virtual BSE image as a 32-bit TIFF file"
   ]
  },
  {
   "cell_type": "code",
   "execution_count": 14,
   "metadata": {},
   "outputs": [],
   "source": [
    "vbse.change_dtype(np.float32)"
   ]
  },
  {
   "cell_type": "code",
   "execution_count": null,
   "metadata": {},
   "outputs": [],
   "source": [
    "vbse.save(\"vbse1.tif\")"
   ]
  },
  {
   "cell_type": "markdown",
   "metadata": {},
   "source": [
    "## 3.2 Select a data region"
   ]
  },
  {
   "cell_type": "markdown",
   "metadata": {},
   "source": [
    "Plot the data with an adjustable marker indicating where to crop the data region"
   ]
  },
  {
   "cell_type": "code",
   "execution_count": 40,
   "metadata": {},
   "outputs": [
    {
     "data": {
      "text/plain": [
       "<hyperspy.drawing._widgets.rectangles.RectangleWidget at 0x7fb98d6c6ca0>"
      ]
     },
     "execution_count": 40,
     "metadata": {},
     "output_type": "execute_result"
    }
   ],
   "source": [
    "reg = hs.roi.RectangularROI(left=0, top=0, right=10, bottom=10)\n",
    "s.plot()\n",
    "reg.add_widget(s)"
   ]
  },
  {
   "cell_type": "markdown",
   "metadata": {},
   "source": [
    "Crop the data set based on the region defined above"
   ]
  },
  {
   "cell_type": "code",
   "execution_count": 41,
   "metadata": {},
   "outputs": [],
   "source": [
    "s2 = reg(s)"
   ]
  },
  {
   "cell_type": "markdown",
   "metadata": {},
   "source": [
    "Calculate the mean diffraction pattern from the selected region"
   ]
  },
  {
   "cell_type": "code",
   "execution_count": 42,
   "metadata": {},
   "outputs": [],
   "source": [
    "s2_mean = s2.mean(axis=(0, 1))"
   ]
  },
  {
   "cell_type": "markdown",
   "metadata": {},
   "source": [
    "Plot the mean diffraction pattern from the selected region"
   ]
  },
  {
   "cell_type": "code",
   "execution_count": 43,
   "metadata": {},
   "outputs": [],
   "source": [
    "s2_mean.plot()"
   ]
  },
  {
   "cell_type": "markdown",
   "metadata": {},
   "source": [
    "# 4. Multiple images from detector grid tiles"
   ]
  },
  {
   "cell_type": "markdown",
   "metadata": {},
   "source": [
    "Initialize a VirtualBSEImageGenerator"
   ]
  },
  {
   "cell_type": "code",
   "execution_count": 44,
   "metadata": {},
   "outputs": [],
   "source": [
    "vbse_gen = kp.generators.VirtualBSEGenerator(s)"
   ]
  },
  {
   "cell_type": "code",
   "execution_count": 45,
   "metadata": {},
   "outputs": [
    {
     "data": {
      "text/plain": [
       "VirtualBSEGenerator for <EBSD, title: Pattern, dimensions: (200, 149|60, 60)>"
      ]
     },
     "execution_count": 45,
     "metadata": {},
     "output_type": "execute_result"
    }
   ],
   "source": [
    "vbse_gen"
   ]
  },
  {
   "cell_type": "markdown",
   "metadata": {},
   "source": [
    "Inspect the generator detector grid"
   ]
  },
  {
   "cell_type": "code",
   "execution_count": 46,
   "metadata": {},
   "outputs": [
    {
     "data": {
      "text/plain": [
       "(5, 5)"
      ]
     },
     "execution_count": 46,
     "metadata": {},
     "output_type": "execute_result"
    }
   ],
   "source": [
    "vbse_gen.grid_shape"
   ]
  },
  {
   "cell_type": "code",
   "execution_count": 47,
   "metadata": {},
   "outputs": [
    {
     "data": {
      "text/plain": [
       "<EBSD, title: Pattern, dimensions: (|60, 60)>"
      ]
     },
     "execution_count": 47,
     "metadata": {},
     "output_type": "execute_result"
    }
   ],
   "source": [
    "vbse_gen.plot_grid()"
   ]
  },
  {
   "cell_type": "markdown",
   "metadata": {},
   "source": [
    "Change the grid shape"
   ]
  },
  {
   "cell_type": "code",
   "execution_count": 48,
   "metadata": {},
   "outputs": [],
   "source": [
    "vbse_gen.grid_shape = (6, 6)"
   ]
  },
  {
   "cell_type": "markdown",
   "metadata": {},
   "source": [
    "Compute one virtual BSE image per detector grid tile"
   ]
  },
  {
   "cell_type": "code",
   "execution_count": 49,
   "metadata": {},
   "outputs": [],
   "source": [
    "vbse_grid_images = vbse_gen.get_images_from_grid()"
   ]
  },
  {
   "cell_type": "code",
   "execution_count": 50,
   "metadata": {},
   "outputs": [
    {
     "data": {
      "text/plain": [
       "<VirtualBSEImage, title: , dimensions: (6, 6|200, 149)>"
      ]
     },
     "execution_count": 50,
     "metadata": {},
     "output_type": "execute_result"
    }
   ],
   "source": [
    "vbse_grid_images"
   ]
  },
  {
   "cell_type": "markdown",
   "metadata": {},
   "source": [
    "Plot the virtual BSE images"
   ]
  },
  {
   "cell_type": "code",
   "execution_count": 51,
   "metadata": {},
   "outputs": [],
   "source": [
    "vbse_grid_images.plot()"
   ]
  },
  {
   "cell_type": "markdown",
   "metadata": {},
   "source": [
    "Save the BSE images as a 32-bit TIFF stack"
   ]
  },
  {
   "cell_type": "code",
   "execution_count": 24,
   "metadata": {},
   "outputs": [
    {
     "data": {
      "text/plain": [
       "True"
      ]
     },
     "execution_count": 24,
     "metadata": {},
     "output_type": "execute_result"
    }
   ],
   "source": [
    "vbse_grid_images.unfold_navigation_space()"
   ]
  },
  {
   "cell_type": "code",
   "execution_count": null,
   "metadata": {},
   "outputs": [],
   "source": [
    "vbse_grid_images"
   ]
  },
  {
   "cell_type": "code",
   "execution_count": 26,
   "metadata": {},
   "outputs": [],
   "source": [
    "vbse_grid_images.save(\"vbse2.tif\")"
   ]
  },
  {
   "cell_type": "markdown",
   "metadata": {},
   "source": [
    "# 5. RGB images"
   ]
  },
  {
   "cell_type": "markdown",
   "metadata": {},
   "source": [
    "## 5.1 From detector grid tiles"
   ]
  },
  {
   "cell_type": "markdown",
   "metadata": {},
   "source": [
    "## 5.2 From Gaussian fitting parameters"
   ]
  },
  {
   "cell_type": "markdown",
   "metadata": {},
   "source": [
    "# 6. Processing virtual image intensities"
   ]
  }
 ],
 "metadata": {
  "kernelspec": {
   "display_name": "Python 3",
   "language": "python",
   "name": "python3"
  },
  "language_info": {
   "codemirror_mode": {
    "name": "ipython",
    "version": 3
   },
   "file_extension": ".py",
   "mimetype": "text/x-python",
   "name": "python",
   "nbconvert_exporter": "python",
   "pygments_lexer": "ipython3",
   "version": "3.8.2"
  }
 },
 "nbformat": 4,
 "nbformat_minor": 4
}
